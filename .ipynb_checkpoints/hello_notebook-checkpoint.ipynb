{
 "cells": [
  {
   "cell_type": "code",
   "execution_count": 1,
   "metadata": {},
   "outputs": [
    {
     "name": "stdout",
     "output_type": "stream",
     "text": [
      "Hi Notebook\n",
      "Pick a number 1-10: 11\n",
      "Pick a number 1-10: 8\n",
      "Wow my python skills are not as good as yours.\n"
     ]
    }
   ],
   "source": [
    "print (\"Hi Notebook\")\n",
    "\n",
    "number = 0\n",
    "is_valid = False\n",
    "while (is_valid == False) :\n",
    "    number = eval(input(\"Pick a number 1-10: \"))\n",
    "    if (number >= 1 and number <= 10):\n",
    "        print (\"Can't you follow simple instructions?\")\n",
    "        is_valid = True\n",
    "    \n",
    "  \n",
    "if (number > 5):\n",
    "    print (\"Wow my python skills are not as good as yours.\")\n",
    "else:\n",
    "    print (\"Haha i'm better than you at python!\")"
   ]
  },
  {
   "cell_type": "code",
   "execution_count": null,
   "metadata": {},
   "outputs": [],
   "source": []
  },
  {
   "cell_type": "code",
   "execution_count": null,
   "metadata": {},
   "outputs": [],
   "source": []
  },
  {
   "cell_type": "code",
   "execution_count": null,
   "metadata": {},
   "outputs": [],
   "source": []
  }
 ],
 "metadata": {
  "kernelspec": {
   "display_name": "Python 3",
   "language": "python",
   "name": "python3"
  },
  "language_info": {
   "codemirror_mode": {
    "name": "ipython",
    "version": 3
   },
   "file_extension": ".py",
   "mimetype": "text/x-python",
   "name": "python",
   "nbconvert_exporter": "python",
   "pygments_lexer": "ipython3",
   "version": "3.6.4"
  }
 },
 "nbformat": 4,
 "nbformat_minor": 2
}
